{
 "cells": [
  {
   "cell_type": "markdown",
   "metadata": {},
   "source": [
    "# Reinforcement Learning\n",
    "Game: huligutta (Goats and Tigers)"
   ]
  },
  {
   "cell_type": "code",
   "execution_count": 156,
   "metadata": {},
   "outputs": [],
   "source": [
    "import numpy as np\n",
    "import sys\n",
    "from huligutta import *\n",
    "from functions import *\n",
    "from itertools import combinations\n",
    "from copy import deepcopy\n",
    "import networkx as nx\n",
    "from networkx.algorithms import bipartite\n",
    "import random"
   ]
  },
  {
   "cell_type": "code",
   "execution_count": 157,
   "metadata": {
    "tags": []
   },
   "outputs": [],
   "source": [
    "# Game Flow\n",
    "# Board().clearBoard()\n",
    "# Position('b','1').place('X')\n",
    "# Board().printBoard()\n",
    "# Tiger.move('b1','b2')\n",
    "# sim = deepcopy(Board())\n",
    "# Position('b','0').place('X')\n",
    "# a = Board().boardPositions\n",
    "# sim.clearBoard()\n",
    "# sim.printBoard()\n",
    "# PositionCopy = deepcopy(Position)\n",
    "# Position('b','0').place('X')\n",
    "# Position('b','1').place('X')\n",
    "# random.choice([ key for key,items in a.items() if items == ()])"
   ]
  },
  {
   "cell_type": "code",
   "execution_count": 158,
   "metadata": {},
   "outputs": [],
   "source": [
    "# possible_pos = ['a1','a2','a3','b0','b1','b2','b3','b4','c1','c2','c3','c4','d1','d2','d3','d4','e1','e2','e3','e4','f1','f2','f3']\n",
    "# possible_pos\n",
    "# Board().boardPositions['b1']"
   ]
  },
  {
   "cell_type": "code",
   "execution_count": 164,
   "metadata": {},
   "outputs": [],
   "source": [
    "\n",
    "Board().clearBoard()\n",
    "# Position('b','1').place('X')\n",
    "def optimal_stalemate(pos1,pos2,pos3):\n",
    "    # function: determines the optimal stalemates\n",
    "    # input: position of the three tigers\n",
    "    # return: board position that stalemates the tigers (with the min number of goats)\n",
    "\n",
    "    positions = {'b0': (),'a1': (),'a2': (),'a3': (),\n",
    "        'b1': (),'b2': (),'b3': (),'b4': (),\n",
    "        'c1': (),'c2': (),'c3': (),'c4': (),\n",
    "        'd1': (),'d2': (),'d3': (),'d4': (),\n",
    "        'e1': (),'e2': (),'e3': (),'e4': (),\n",
    "        'f1': (),'f2': (),'f3': ()}\n",
    "    positions[pos1] = 'X'\n",
    "    positions[pos2] = 'X'\n",
    "    positions[pos3] = 'X'\n",
    "    tigers = [pos1,pos2,pos3]\n",
    "    # print('DEBUG: args ', args)\n",
    "\n",
    "    for tiger in tigers:\n",
    "    ## Blocks the adjacents\n",
    "        # print('DEBUG: args[tiger]', tiger)\n",
    "        # print('DEBUG: Position(args[tiger][0],args[tiger][1]).get_neighbors() ',Position(tiger[0],tiger[1]).get_neighbors())\n",
    "        if Position(tiger[0],tiger[1]).get_neighbors() != None:\n",
    "            for neighbor in Position(tiger[0],tiger[1]).get_neighbors():\n",
    "                if Position(neighbor[0],neighbor[1]).content() == ():\n",
    "                    positions[neighbor] = 'O'\n",
    "\n",
    "    ## Blocks the captures\n",
    "        if Position(tiger[0],tiger[1]).get_captures() != None:\n",
    "            print('ge')\n",
    "            for capture in Position(tiger[0],tiger[1]).get_captures():\n",
    "                print('capturing at: ', capture)\n",
    "                if Position(capture[0],capture[1]).content() == ():\n",
    "                    positions[capture] = 'O'\n",
    "    Board().printBoard()\n",
    "    positions = positions\n",
    "    numGoats = len(goatPositions(positions))\n",
    "    ## Display the minimum number of goats\n",
    "#     print('Number of goats:',numGoats)\n",
    "    # Board().printBoard()\n",
    "    return numGoats, positions"
   ]
  },
  {
   "cell_type": "code",
   "execution_count": 167,
   "metadata": {},
   "outputs": [
    {
     "output_type": "stream",
     "name": "stdout",
     "text": [
      "\t*\t*\t()\t*\t*\t\n()\t()\t()\t\t()\t()\t()\n()\t()\t()\t\t()\t()\t()\n()\t()\t()\t\t()\t()\t()\n\t()\t()\t\t()\t()\n"
     ]
    },
    {
     "output_type": "error",
     "ename": "NameError",
     "evalue": "name 'printBoard' is not defined",
     "traceback": [
      "\u001b[0;31m---------------------------------------------------------------------------\u001b[0m",
      "\u001b[0;31mNameError\u001b[0m                                 Traceback (most recent call last)",
      "\u001b[0;32m<ipython-input-167-cd1af1181339>\u001b[0m in \u001b[0;36m<module>\u001b[0;34m\u001b[0m\n\u001b[1;32m      1\u001b[0m \u001b[0m_\u001b[0m\u001b[0;34m,\u001b[0m\u001b[0mpositions\u001b[0m \u001b[0;34m=\u001b[0m \u001b[0moptimal_stalemate\u001b[0m\u001b[0;34m(\u001b[0m\u001b[0;34m'b3'\u001b[0m\u001b[0;34m,\u001b[0m\u001b[0;34m'a2'\u001b[0m\u001b[0;34m,\u001b[0m\u001b[0;34m'a3'\u001b[0m\u001b[0;34m)\u001b[0m\u001b[0;34m\u001b[0m\u001b[0;34m\u001b[0m\u001b[0m\n\u001b[0;32m----> 2\u001b[0;31m \u001b[0mprintBoard\u001b[0m\u001b[0;34m(\u001b[0m\u001b[0mpositions\u001b[0m\u001b[0;34m)\u001b[0m\u001b[0;34m\u001b[0m\u001b[0;34m\u001b[0m\u001b[0m\n\u001b[0m",
      "\u001b[0;31mNameError\u001b[0m: name 'printBoard' is not defined"
     ]
    }
   ],
   "source": [
    "_,positions = optimal_stalemate('b3','a2','a3')\n",
    "printBoard(positions)"
   ]
  },
  {
   "cell_type": "markdown",
   "metadata": {},
   "source": [
    "Now, I use this function to on all the possible positions of the three tigers. There are ${23 \\choose 3}=1771$ possible positions."
   ]
  },
  {
   "cell_type": "code",
   "execution_count": 6,
   "metadata": {
    "scrolled": true
   },
   "outputs": [],
   "source": [
    "possible_pos = ['a1','a2','a3','b0','b1','b2','b3','b4','c1','c2','c3','c4','d1','d2','d3','d4','e1','e2','e3','e4','f1','f2','f3']\n",
    "possibleStalemates = []\n",
    "Goats = []\n",
    "num_goats = list(range(1,15+1))\n",
    "\n",
    "for combo in combinations(possible_pos,3):\n",
    "    goats, position = deepcopy(optimal_stalemate(combo[0],combo[1],combo[2]))\n",
    "    if goats >15:\n",
    "        continue\n",
    "    Goats.append(goats)\n",
    "    possibleStalemates.append(position)\n",
    "        \n",
    "x=[]        \n",
    "for i in range(len(possibleStalemates)):\n",
    "    x.append(possibleStalemates[i][-1])"
   ]
  },
  {
   "cell_type": "code",
   "execution_count": 7,
   "metadata": {},
   "outputs": [
    {
     "output_type": "stream",
     "name": "stdout",
     "text": [
      "Number of Goats: 0 Possible stalemates 0\nNumber of Goats: 1 Possible stalemates 0\nNumber of Goats: 2 Possible stalemates 0\nNumber of Goats: 3 Possible stalemates 0\nNumber of Goats: 4 Possible stalemates 0\nNumber of Goats: 5 Possible stalemates 13\nNumber of Goats: 6 Possible stalemates 30\nNumber of Goats: 7 Possible stalemates 100\nNumber of Goats: 8 Possible stalemates 216\nNumber of Goats: 9 Possible stalemates 342\nNumber of Goats: 10 Possible stalemates 501\nNumber of Goats: 11 Possible stalemates 323\nNumber of Goats: 12 Possible stalemates 189\nNumber of Goats: 13 Possible stalemates 51\nNumber of Goats: 14 Possible stalemates 6\n"
     ]
    }
   ],
   "source": [
    "for i in range(len(num_goats)):\n",
    "    print('Number of Goats:',i,'Possible stalemates',Goats.count(num_goats[i]))"
   ]
  },
  {
   "cell_type": "code",
   "execution_count": 163,
   "metadata": {},
   "outputs": [],
   "source": [
    "\n",
    "\n",
    "def edit_distance(boardPosition1):\n",
    "    ## Edit Distance\n",
    "    # Input: Board position\n",
    "    # Return: integer number    \n",
    "\n",
    "    \n",
    "    B = nx.Graph()\n",
    "    B.add_nodes_from(list(range(30)), bipartite = 0)\n",
    "    B.add_nodes_from(list(range(30)), bipartite = 1)\n",
    "\n",
    "    # Populate graph\n",
    "    for i in range(30):\n",
    "        for j in range(30):\n",
    "            if position[i] == \"O\" and stalematePosition[j] == \"O\":\n",
    "                B.add_edge(i,j,weight = 10 - num_moves(position,stalematePosition,i,j))    \n",
    "\n",
    "    # Bipartite Max Matching\n",
    "    maxMatching = bipartite.maximum_matching(B)\n",
    "\n",
    "    # Collect sum of weights\n",
    "    Sum = 0\n",
    "    for i in range(30):\n",
    "        Sum += B[list(maxMatching.keys(i))[i]][maxMatching[list(maxMatching.keys)[i]]][\"weight\"]\n",
    "                                                \n",
    "    return Sum\n",
    "\n",
    "def num_moves(config1,config2,i,j):\n",
    "    # Input: i,j indices in the position graph\n",
    "    # Output: number of moves from start posiiton to end position\n",
    "    minDist = float('inf')\n",
    "    dist = 0\n",
    "    \n",
    "    startY = round(i / 5)\n",
    "    startX = i % 6\n",
    "    \n",
    "    if startX == 0 or endX == 0:\n",
    "        tmp = []\n",
    "        for i in [1, 2, 3, 4]:\n",
    "            tmp.append((endY - 0) + (endX - i))\n",
    "        return min(tmp)\n",
    "    else:\n",
    "        return (endY - StartY) + (endX - startX)\n",
    "    \n",
    "def board2mat(board):\n",
    "    # '': not applicable\n",
    "    \n",
    "    # Initialize matrix\n",
    "    mat = [[None for i in range(6)] for j in range(5)]\n",
    "    \n",
    "    # Populate values into the matrix\n",
    "    mat[0][1] =  mat[0][2] =  mat[0][3] = mat[0][4] = board[0]['origin']\n",
    "    \n",
    "    for i in range(len(board)-1):\n",
    "        for j in board[i+1]:\n",
    "            mat[j][i] = board[i+1][j]\n",
    "            \n",
    "    return np.array(mat,dtype=object)\n",
    "\n",
    "def flatten(mat):\n",
    "    \n",
    "    return np.array(mat,dtype=object).reshape(30)\n",
    "\n",
    "def unflatten(flat_mat):\n",
    "    \n",
    "    return np.array(flat_mat,dtype=object).reshape(5,6)\n",
    "        "
   ]
  },
  {
   "cell_type": "code",
   "execution_count": 115,
   "metadata": {},
   "outputs": [],
   "source": [
    "mat[0][1] =  mat[0][2] =  mat[0][3] = mat[0][4] = a[0]['origin']"
   ]
  },
  {
   "cell_type": "code",
   "execution_count": 136,
   "metadata": {},
   "outputs": [],
   "source": [
    "for i in range(len(a)-1):\n",
    "    for j in a[i+1]:\n",
    "        mat[j][i] = a[i+1][j]"
   ]
  },
  {
   "cell_type": "code",
   "execution_count": 97,
   "metadata": {},
   "outputs": [],
   "source": [
    "B = nx.Graph()\n",
    "B.add_nodes_from(list(range(30)), bipartite = 0)\n",
    "B.add_nodes_from(list(range(30)), bipartite = 1)"
   ]
  },
  {
   "cell_type": "code",
   "execution_count": 99,
   "metadata": {},
   "outputs": [],
   "source": [
    "    for i in range(30):\n",
    "        for j in range(30):\n",
    "                B.add_edge(i,j,weight = 10 )    "
   ]
  }
 ],
 "metadata": {
  "kernelspec": {
   "display_name": "Python 3",
   "language": "python",
   "name": "python3"
  },
  "language_info": {
   "codemirror_mode": {
    "name": "ipython",
    "version": 3
   },
   "file_extension": ".py",
   "mimetype": "text/x-python",
   "name": "python",
   "nbconvert_exporter": "python",
   "pygments_lexer": "ipython3",
   "version": "3.7.9-final"
  }
 },
 "nbformat": 4,
 "nbformat_minor": 4
}